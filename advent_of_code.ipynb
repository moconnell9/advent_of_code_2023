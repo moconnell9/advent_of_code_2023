{
 "cells": [
  {
   "cell_type": "markdown",
   "metadata": {},
   "source": [
    "# Advent of Code 2023"
   ]
  },
  {
   "cell_type": "markdown",
   "metadata": {},
   "source": [
    "## Day 1\n"
   ]
  },
  {
   "cell_type": "code",
   "execution_count": null,
   "metadata": {},
   "outputs": [],
   "source": [
    "#export\n",
    "def day1_pt1():\n",
    "  with open(\"day1.txt\") as file:\n",
    "    lines = [line.rstrip() for line in file]\n",
    "  \n",
    "  digit_arrays = [[int(c) for i, c in enumerate(line) if c.isdigit()] for line in lines] \n",
    "  calibration_values = [str(arr[0]) + str(arr[-1]) for arr in digit_arrays]\n",
    "  ans = sum(int(value) for value in calibration_values)\n",
    "  print(ans)\n",
    "\n",
    "def day1_pt2():\n",
    "\n",
    "  with open(\"day1.txt\") as file:\n",
    "    lines = [line.rstrip() for line in file]\n",
    "  \n",
    "  digit_map = { 'zero':'0', 'one':'1', 'two':'2', 'three':'3', 'four':'4', 'five':'5', 'six':'6', 'seven':'7', 'eight':'8', 'nine':'9'}\n",
    "  for old, new in digit_map.items():\n",
    "    lines = [line.replace(old, old + new + old) for line in lines]\n",
    "    \n",
    "  digit_arrays = [[int(c) for i, c in enumerate(line) if c.isdigit()] for line in lines] \n",
    "  calibration_values = [str(arr[0]) + str(arr[-1]) for arr in digit_arrays]\n",
    "  ans = sum(int(value) for value in calibration_values)\n",
    "  print(ans)\n",
    "\n",
    "day1_pt1()\n",
    "day1_pt2()"
   ]
  }
 ],
 "metadata": {
  "kernelspec": {
   "display_name": "Python 3 (ipykernel)",
   "language": "python",
   "name": "python3"
  },
  "language_info": {
   "codemirror_mode": {
    "name": "ipython",
    "version": 3
   },
   "file_extension": ".py",
   "mimetype": "text/x-python",
   "name": "python",
   "nbconvert_exporter": "python",
   "pygments_lexer": "ipython3",
   "version": "3.7.16"
  }
 },
 "nbformat": 4,
 "nbformat_minor": 2
}
